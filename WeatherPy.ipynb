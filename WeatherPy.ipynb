{
 "cells": [
  {
   "cell_type": "markdown",
   "metadata": {},
   "source": [
    "* This code generates a list of city names for us when provided with a list of coordinates.\n",
    "* CitiPy is being utilized in the for loop to add cities for every pair of coordinates in our list.\n",
    "* Students will be responsible for determining precisely how to do this in their homework assignment as well.\n",
    "* [citipy documentation](https://github.com/wingchen/citipy)"
   ]
  },
  {
   "cell_type": "code",
   "execution_count": 71,
   "metadata": {},
   "outputs": [],
   "source": [
    "# Dependencies\n",
    "from citipy import citipy\n",
    "import requests\n",
    "import json\n",
    "from config import api_key_weather"
   ]
  },
  {
   "cell_type": "code",
   "execution_count": 72,
   "metadata": {},
   "outputs": [],
   "source": [
    "# Some random coordinates\n",
    "url = \"http://api.openweathermap.org/data/2.5/weather?units=Imperial&\"\n",
    "\n",
    "coordinates = [(200, 200), (23, 200), (42, 100)]"
   ]
  },
  {
   "cell_type": "code",
   "execution_count": 73,
   "metadata": {},
   "outputs": [],
   "source": [
    "cities = []\n",
    "for coordinate_pair in coordinates:\n",
    "    lat, lon = coordinate_pair\n",
    "    cities.append(citipy.nearest_city(lat, lon))"
   ]
  },
  {
   "cell_type": "code",
   "execution_count": 74,
   "metadata": {
    "scrolled": true
   },
   "outputs": [
    {
     "name": "stdout",
     "output_type": "stream",
     "text": [
      "The city name is leningradskiy.\n",
      "http://api.openweathermap.org/data/2.5/weather?units=Imperial&appid=8e5c378a7e1a5d0c969c56301f258dde&q=leningradskiy\n",
      "{'coord': {'lon': 178.42, 'lat': 69.38}, 'weather': [{'id': 803, 'main': 'Clouds', 'description': 'broken clouds', 'icon': '04n'}], 'base': 'stations', 'main': {'temp': -7.73, 'pressure': 1007.67, 'humidity': 77, 'temp_min': -7.73, 'temp_max': -7.73, 'sea_level': 1007.67, 'grnd_level': 1004.7}, 'wind': {'speed': 24.2, 'deg': 276.003}, 'clouds': {'all': 64}, 'dt': 1552832205, 'sys': {'message': 0.0032, 'country': 'RU', 'sunrise': 1552846717, 'sunset': 1552889443}, 'id': 2123814, 'name': 'Leningradskiy', 'cod': 200}\n",
      "Cloudiness 64\n",
      "Max Temperature -7.73\n",
      "Humidity 77\n",
      "Windspeed 24.2\n",
      "The city name is butaritari.\n",
      "http://api.openweathermap.org/data/2.5/weather?units=Imperial&appid=8e5c378a7e1a5d0c969c56301f258dde&q=butaritari\n",
      "{'coord': {'lon': 172.79, 'lat': 3.07}, 'weather': [{'id': 501, 'main': 'Rain', 'description': 'moderate rain', 'icon': '10n'}], 'base': 'stations', 'main': {'temp': 77.77, 'pressure': 1008.83, 'humidity': 100, 'temp_min': 77.77, 'temp_max': 77.77, 'sea_level': 1008.83, 'grnd_level': 1008.86}, 'wind': {'speed': 10.45, 'deg': 315.003}, 'rain': {'3h': 3.74}, 'clouds': {'all': 92}, 'dt': 1552832205, 'sys': {'message': 0.0032, 'country': 'KI', 'sunrise': 1552847647, 'sunset': 1552891214}, 'id': 2110227, 'name': 'Butaritari', 'cod': 200}\n",
      "Cloudiness 92\n",
      "Max Temperature 77.77\n",
      "Humidity 100\n",
      "Windspeed 10.45\n",
      "The city name is jiuquan.\n",
      "http://api.openweathermap.org/data/2.5/weather?units=Imperial&appid=8e5c378a7e1a5d0c969c56301f258dde&q=jiuquan\n",
      "{'coord': {'lon': 98.49, 'lat': 39.73}, 'weather': [{'id': 800, 'main': 'Clear', 'description': 'clear sky', 'icon': '01n'}], 'base': 'stations', 'main': {'temp': 20.08, 'pressure': 1021.07, 'humidity': 54, 'temp_min': 20.08, 'temp_max': 20.08, 'sea_level': 1021.07, 'grnd_level': 779.82}, 'wind': {'speed': 3.96, 'deg': 205.003}, 'clouds': {'all': 0}, 'dt': 1552832205, 'sys': {'message': 0.0032, 'country': 'CN', 'sunrise': 1552779330, 'sunset': 1552822424}, 'id': 1280957, 'name': 'Jiuquan', 'cod': 200}\n",
      "Cloudiness 0\n",
      "Max Temperature 20.08\n",
      "Humidity 54\n",
      "Windspeed 3.96\n"
     ]
    }
   ],
   "source": [
    "for city in cities:\n",
    "    country_code = city.country_code\n",
    "    name = city.city_name\n",
    "    #print(f\"The country code of {name} is '{country_code}'.\")\n",
    "    \n",
    "    # Build query URL\n",
    "    query_url = url + \"appid=\" + api_key_weather + \"&q=\" + city.city_name\n",
    "\n",
    "    print(f\"The city name is {name}.\")\n",
    "    print(query_url)\n",
    "    \n",
    "    # Get weather data\n",
    "    weather_response = requests.get(query_url)\n",
    "    weather_json = weather_response.json()\n",
    "    \n",
    "    print(weather_json)\n",
    "    #print(json.dumps(weather_json, indent=4, sort_keys=True))\n",
    "    \n",
    "    cloudiness = weather_json[\"clouds\"][\"all\"]\n",
    "    MaxTemp = weather_json[\"main\"][\"temp_max\"]\n",
    "    humidity = weather_json[\"main\"][\"humidity\"]\n",
    "    windspeed = weather_json[\"wind\"][\"speed\"]\n",
    "    \n",
    "    print(\"Cloudiness \" + str(cloudiness))\n",
    "    print(\"Max Temperature \" + str(MaxTemp))\n",
    "    print(\"Humidity \" + str(humidity))\n",
    "    print(\"Windspeed \" + str(windspeed))"
   ]
  }
 ],
 "metadata": {
  "kernelspec": {
   "display_name": "Python 3",
   "language": "python",
   "name": "python3"
  },
  "language_info": {
   "codemirror_mode": {
    "name": "ipython",
    "version": 3
   },
   "file_extension": ".py",
   "mimetype": "text/x-python",
   "name": "python",
   "nbconvert_exporter": "python",
   "pygments_lexer": "ipython3",
   "version": "3.6.7"
  },
  "varInspector": {
   "cols": {
    "lenName": 16,
    "lenType": 16,
    "lenVar": 40
   },
   "kernels_config": {
    "python": {
     "delete_cmd_postfix": "",
     "delete_cmd_prefix": "del ",
     "library": "var_list.py",
     "varRefreshCmd": "print(var_dic_list())"
    },
    "r": {
     "delete_cmd_postfix": ") ",
     "delete_cmd_prefix": "rm(",
     "library": "var_list.r",
     "varRefreshCmd": "cat(var_dic_list()) "
    }
   },
   "types_to_exclude": [
    "module",
    "function",
    "builtin_function_or_method",
    "instance",
    "_Feature"
   ],
   "window_display": false
  }
 },
 "nbformat": 4,
 "nbformat_minor": 2
}
