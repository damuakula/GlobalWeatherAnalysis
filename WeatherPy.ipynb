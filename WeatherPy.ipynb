{
 "cells": [
  {
   "cell_type": "markdown",
   "metadata": {},
   "source": [
    "* This code generates a list of city names for us when provided with a list of coordinates.\n",
    "* CitiPy is being utilized in the for loop to add cities for every pair of coordinates in our list.\n",
    "* Students will be responsible for determining precisely how to do this in their homework assignment as well.\n",
    "* [citipy documentation](https://github.com/wingchen/citipy)"
   ]
  },
  {
   "cell_type": "code",
   "execution_count": 30,
   "metadata": {},
   "outputs": [],
   "source": [
    "# Dependencies\n",
    "%matplotlib inline\n",
    "import matplotlib.pyplot as plt\n",
    "import pandas as pd\n",
    "import numpy as np\n",
    "from citipy import citipy\n",
    "import requests\n",
    "import json\n",
    "from config import api_key_weather"
   ]
  },
  {
   "cell_type": "code",
   "execution_count": 31,
   "metadata": {},
   "outputs": [],
   "source": [
    "# Some random coordinates\n",
    "url = \"http://api.openweathermap.org/data/2.5/weather?units=Imperial&\"\n",
    "\n",
    "coordinates = [(200, 200), (23, 200), (42, 100)]"
   ]
  },
  {
   "cell_type": "code",
   "execution_count": 32,
   "metadata": {},
   "outputs": [
    {
     "data": {
      "text/html": [
       "<div>\n",
       "<style scoped>\n",
       "    .dataframe tbody tr th:only-of-type {\n",
       "        vertical-align: middle;\n",
       "    }\n",
       "\n",
       "    .dataframe tbody tr th {\n",
       "        vertical-align: top;\n",
       "    }\n",
       "\n",
       "    .dataframe thead th {\n",
       "        text-align: right;\n",
       "    }\n",
       "</style>\n",
       "<table border=\"1\" class=\"dataframe\">\n",
       "  <thead>\n",
       "    <tr style=\"text-align: right;\">\n",
       "      <th></th>\n",
       "      <th>City</th>\n",
       "      <th>Country</th>\n",
       "      <th>Lat</th>\n",
       "      <th>Lng</th>\n",
       "    </tr>\n",
       "  </thead>\n",
       "  <tbody>\n",
       "    <tr>\n",
       "      <th>0</th>\n",
       "      <td>leningradskiy</td>\n",
       "      <td>ru</td>\n",
       "      <td>200</td>\n",
       "      <td>200</td>\n",
       "    </tr>\n",
       "    <tr>\n",
       "      <th>0</th>\n",
       "      <td>butaritari</td>\n",
       "      <td>ki</td>\n",
       "      <td>23</td>\n",
       "      <td>200</td>\n",
       "    </tr>\n",
       "    <tr>\n",
       "      <th>0</th>\n",
       "      <td>jiuquan</td>\n",
       "      <td>cn</td>\n",
       "      <td>42</td>\n",
       "      <td>100</td>\n",
       "    </tr>\n",
       "  </tbody>\n",
       "</table>\n",
       "</div>"
      ],
      "text/plain": [
       "            City Country  Lat  Lng\n",
       "0  leningradskiy      ru  200  200\n",
       "0     butaritari      ki   23  200\n",
       "0        jiuquan      cn   42  100"
      ]
     },
     "execution_count": 32,
     "metadata": {},
     "output_type": "execute_result"
    }
   ],
   "source": [
    "cities = []\n",
    "for coordinate_pair in coordinates:\n",
    "    lat, lon = coordinate_pair\n",
    "    #cities.append(citipy.nearest_city(lat, lon))\n",
    "    city = citipy.nearest_city(lat, lon)\n",
    "    citiname = city.city_name\n",
    "    countrycode = city.country_code\n",
    "    cities_data = {'City': [citiname], 'Country': [countrycode], 'Lat': [lat], 'Lng': [lon]}\n",
    "    city_df = pd.DataFrame(data=cities_data)\n",
    "    cities.append(city_df)\n",
    "\n",
    "cities_df = pd.concat(cities)\n",
    "cities_df"
   ]
  },
  {
   "cell_type": "code",
   "execution_count": 37,
   "metadata": {},
   "outputs": [
    {
     "name": "stdout",
     "output_type": "stream",
     "text": [
      "Pandas(City='leningradskiy', Country='ru', Lat=200, Lng=200)\n",
      "The city name is leningradskiy.\n",
      "The country name is ru.\n",
      "http://api.openweathermap.org/data/2.5/weather?units=Imperial&appid=8e5c378a7e1a5d0c969c56301f258dde&q=leningradskiy\n",
      "Pandas(City='butaritari', Country='ki', Lat=23, Lng=200)\n",
      "The city name is butaritari.\n",
      "The country name is ki.\n",
      "http://api.openweathermap.org/data/2.5/weather?units=Imperial&appid=8e5c378a7e1a5d0c969c56301f258dde&q=butaritari\n",
      "Pandas(City='jiuquan', Country='cn', Lat=42, Lng=100)\n",
      "The city name is jiuquan.\n",
      "The country name is cn.\n",
      "http://api.openweathermap.org/data/2.5/weather?units=Imperial&appid=8e5c378a7e1a5d0c969c56301f258dde&q=jiuquan\n"
     ]
    }
   ],
   "source": [
    "results = []\n",
    "#for city in cities:\n",
    "for city in cities_df.itertuples(index=False):\n",
    "    print(city)\n",
    "    \n",
    "    #country_code = city.country_code\n",
    "    #name = city.city_name\n",
    "    #print(f\"The country code of {name} is '{country_code}'.\")\n",
    "    \n",
    "    name = city[0]\n",
    "    country_code = city[1]\n",
    "    lat = city[2]\n",
    "    long = city[3]\n",
    "\n",
    "    # Build query URL\n",
    "    #query_url = url + \"appid=\" + api_key_weather + \"&q=\" + city.city_name\n",
    "    query_url = url + \"appid=\" + api_key_weather + \"&q=\" + str(name)\n",
    "\n",
    "    print(f\"The city name is {name}.\")\n",
    "    print(f\"The country name is {country_code}.\")\n",
    "\n",
    "    print(query_url)\n",
    "    \n",
    "    # Get weather data\n",
    "    weather_response = requests.get(query_url)\n",
    "    weather_json = weather_response.json()\n",
    "    \n",
    "    #print(weather_json)\n",
    "    #print(json.dumps(weather_json, indent=4, sort_keys=True))\n",
    "    \n",
    "    cloudiness = weather_json[\"clouds\"][\"all\"]\n",
    "    MaxTemp = weather_json[\"main\"][\"temp_max\"]\n",
    "    humidity = weather_json[\"main\"][\"humidity\"]\n",
    "    windspeed = weather_json[\"wind\"][\"speed\"]\n",
    "    \n",
    "    #print(\"Cloudiness \" + str(cloudiness))\n",
    "    #print(\"Max Temperature \" + str(MaxTemp))\n",
    "    #print(\"Humidity \" + str(humidity))\n",
    "    #print(\"Windspeed \" + str(windspeed))\n",
    "    \n",
    "    city_data = {'City': [name], 'Lat': [lat], 'Lng': [long], 'Cloudiness': [cloudiness], 'Country': [country_code], 'Humidity': [humidity], 'Max Temperature': [MaxTemp], 'Windspeed': [windspeed]}\n",
    "    df = pd.DataFrame(data=city_data)\n",
    "    results.append(df) # append this loop's city data frame to the list of dataframes"
   ]
  },
  {
   "cell_type": "code",
   "execution_count": 38,
   "metadata": {},
   "outputs": [
    {
     "data": {
      "text/html": [
       "<div>\n",
       "<style scoped>\n",
       "    .dataframe tbody tr th:only-of-type {\n",
       "        vertical-align: middle;\n",
       "    }\n",
       "\n",
       "    .dataframe tbody tr th {\n",
       "        vertical-align: top;\n",
       "    }\n",
       "\n",
       "    .dataframe thead th {\n",
       "        text-align: right;\n",
       "    }\n",
       "</style>\n",
       "<table border=\"1\" class=\"dataframe\">\n",
       "  <thead>\n",
       "    <tr style=\"text-align: right;\">\n",
       "      <th></th>\n",
       "      <th>City</th>\n",
       "      <th>Lat</th>\n",
       "      <th>Lng</th>\n",
       "      <th>Cloudiness</th>\n",
       "      <th>Country</th>\n",
       "      <th>Humidity</th>\n",
       "      <th>Max Temperature</th>\n",
       "      <th>Windspeed</th>\n",
       "    </tr>\n",
       "  </thead>\n",
       "  <tbody>\n",
       "    <tr>\n",
       "      <th>0</th>\n",
       "      <td>leningradskiy</td>\n",
       "      <td>200</td>\n",
       "      <td>200</td>\n",
       "      <td>80</td>\n",
       "      <td>ru</td>\n",
       "      <td>83</td>\n",
       "      <td>-2.47</td>\n",
       "      <td>28.16</td>\n",
       "    </tr>\n",
       "    <tr>\n",
       "      <th>0</th>\n",
       "      <td>butaritari</td>\n",
       "      <td>23</td>\n",
       "      <td>200</td>\n",
       "      <td>76</td>\n",
       "      <td>ki</td>\n",
       "      <td>100</td>\n",
       "      <td>80.20</td>\n",
       "      <td>11.83</td>\n",
       "    </tr>\n",
       "    <tr>\n",
       "      <th>0</th>\n",
       "      <td>jiuquan</td>\n",
       "      <td>42</td>\n",
       "      <td>100</td>\n",
       "      <td>8</td>\n",
       "      <td>cn</td>\n",
       "      <td>62</td>\n",
       "      <td>19.54</td>\n",
       "      <td>5.68</td>\n",
       "    </tr>\n",
       "  </tbody>\n",
       "</table>\n",
       "</div>"
      ],
      "text/plain": [
       "            City  Lat  Lng  Cloudiness Country  Humidity  Max Temperature  \\\n",
       "0  leningradskiy  200  200          80      ru        83            -2.47   \n",
       "0     butaritari   23  200          76      ki       100            80.20   \n",
       "0        jiuquan   42  100           8      cn        62            19.54   \n",
       "\n",
       "   Windspeed  \n",
       "0      28.16  \n",
       "0      11.83  \n",
       "0       5.68  "
      ]
     },
     "execution_count": 38,
     "metadata": {},
     "output_type": "execute_result"
    }
   ],
   "source": [
    "city_data_pd = pd.concat(results) # Concat list of data frames in results from above to the final data frame\n",
    "city_data_pd.head()"
   ]
  },
  {
   "cell_type": "code",
   "execution_count": null,
   "metadata": {},
   "outputs": [],
   "source": []
  }
 ],
 "metadata": {
  "kernelspec": {
   "display_name": "Python 3",
   "language": "python",
   "name": "python3"
  },
  "language_info": {
   "codemirror_mode": {
    "name": "ipython",
    "version": 3
   },
   "file_extension": ".py",
   "mimetype": "text/x-python",
   "name": "python",
   "nbconvert_exporter": "python",
   "pygments_lexer": "ipython3",
   "version": "3.6.7"
  },
  "varInspector": {
   "cols": {
    "lenName": 16,
    "lenType": 16,
    "lenVar": 40
   },
   "kernels_config": {
    "python": {
     "delete_cmd_postfix": "",
     "delete_cmd_prefix": "del ",
     "library": "var_list.py",
     "varRefreshCmd": "print(var_dic_list())"
    },
    "r": {
     "delete_cmd_postfix": ") ",
     "delete_cmd_prefix": "rm(",
     "library": "var_list.r",
     "varRefreshCmd": "cat(var_dic_list()) "
    }
   },
   "types_to_exclude": [
    "module",
    "function",
    "builtin_function_or_method",
    "instance",
    "_Feature"
   ],
   "window_display": false
  }
 },
 "nbformat": 4,
 "nbformat_minor": 2
}
